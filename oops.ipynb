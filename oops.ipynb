{
 "cells": [
  {
   "cell_type": "code",
   "execution_count": null,
   "id": "8737f2d8-fc90-4b48-95e9-a646347c45a2",
   "metadata": {},
   "outputs": [],
   "source": [
    "1 open() method\n",
    "'r'- open for reading\n",
    "'w'- open for writing\n",
    "'x'- create a new file and open it for writing\n",
    "'a'- open for writing, append\n",
    "'b'- binary mode\n",
    "'t'- text code\n",
    "'+'- open a disc file\n",
    "'U'- universal newline mode"
   ]
  },
  {
   "cell_type": "code",
   "execution_count": null,
   "id": "4f8e7a67-b0df-40dc-bc67-ae91b2b7d2b9",
   "metadata": {},
   "outputs": [],
   "source": [
    "2 close() function is used to close the file because \n",
    "files are limited resources managed by operating system and closing a file protect or handles corrupted data"
   ]
  },
  {
   "cell_type": "code",
   "execution_count": 4,
   "id": "5a6012c8-68c6-40d3-b4dd-dbede6d9dfd4",
   "metadata": {},
   "outputs": [],
   "source": [
    " f = open(\"test.txt\" , 'w')"
   ]
  },
  {
   "cell_type": "code",
   "execution_count": 5,
   "id": "baa79115-be91-4feb-b8ba-a2e684fe55b4",
   "metadata": {},
   "outputs": [
    {
     "data": {
      "text/plain": [
       "29"
      ]
     },
     "execution_count": 5,
     "metadata": {},
     "output_type": "execute_result"
    }
   ],
   "source": [
    "f.write(\"This is my data science class\")"
   ]
  },
  {
   "cell_type": "code",
   "execution_count": 7,
   "id": "3174ce29-783a-4b80-99f5-1f51bd39a2a5",
   "metadata": {},
   "outputs": [],
   "source": [
    "f = open(\"test.txt\" , 'r')"
   ]
  },
  {
   "cell_type": "code",
   "execution_count": 8,
   "id": "0946ce5d-fb71-44a7-8f4c-dcad7bb42c3d",
   "metadata": {},
   "outputs": [
    {
     "data": {
      "text/plain": [
       "'This is my data science class'"
      ]
     },
     "execution_count": 8,
     "metadata": {},
     "output_type": "execute_result"
    }
   ],
   "source": [
    "f.read()"
   ]
  },
  {
   "cell_type": "code",
   "execution_count": null,
   "id": "6c36fb31-16f5-46aa-9826-1c17ca26a41f",
   "metadata": {},
   "outputs": [],
   "source": [
    "4 The read() function reads data writen to a file.\n",
    "  readline() method is mainly used to read the complete string until the user press the enter key.\n",
    "    readlines() method returns a list containing each line in the file or list item.  "
   ]
  },
  {
   "cell_type": "code",
   "execution_count": null,
   "id": "4d5c881e-0da7-4d3c-b6f0-9dd5f87ed304",
   "metadata": {},
   "outputs": [],
   "source": [
    "5 With statement works with the open() function to open a file  because \n",
    "the with statement close the file for the user and the user can get to write less code"
   ]
  },
  {
   "cell_type": "code",
   "execution_count": null,
   "id": "eb7f1265-85ca-4068-b00e-3cc73713af6c",
   "metadata": {},
   "outputs": [],
   "source": [
    "6 The write() method writes a specific text to the file\n",
    "The writelines() method writes the item "
   ]
  },
  {
   "cell_type": "code",
   "execution_count": null,
   "id": "8e9a8e75-0b59-42ad-ba81-2ecf714433f3",
   "metadata": {},
   "outputs": [],
   "source": []
  }
 ],
 "metadata": {
  "kernelspec": {
   "display_name": "Python 3 (ipykernel)",
   "language": "python",
   "name": "python3"
  },
  "language_info": {
   "codemirror_mode": {
    "name": "ipython",
    "version": 3
   },
   "file_extension": ".py",
   "mimetype": "text/x-python",
   "name": "python",
   "nbconvert_exporter": "python",
   "pygments_lexer": "ipython3",
   "version": "3.10.8"
  }
 },
 "nbformat": 4,
 "nbformat_minor": 5
}
